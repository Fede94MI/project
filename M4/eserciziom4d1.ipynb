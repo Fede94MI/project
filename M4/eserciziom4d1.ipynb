{
 "cells": [
  {
   "cell_type": "code",
   "execution_count": 44,
   "id": "1bd5f2b7-d8aa-48c9-b2bb-60a9729712a5",
   "metadata": {},
   "outputs": [
    {
     "name": "stdout",
     "output_type": "stream",
     "text": [
      "25\n"
     ]
    }
   ],
   "source": [
    "classestudenti=25\n",
    "print(classestudenti)\n",
    "\n"
   ]
  },
  {
   "cell_type": "code",
   "execution_count": 46,
   "id": "abb83328-e29d-40f2-9810-572c4c00fa06",
   "metadata": {},
   "outputs": [
    {
     "name": "stdout",
     "output_type": "stream",
     "text": [
      "28\n"
     ]
    }
   ],
   "source": [
    "nuovistudenti=3\n",
    "\n",
    "print(classestudenti+nuovistudenti)\n"
   ]
  },
  {
   "cell_type": "code",
   "execution_count": 47,
   "id": "4877751e-c5d9-4ea9-9dda-a14a7a0398e2",
   "metadata": {},
   "outputs": [
    {
     "name": "stdout",
     "output_type": "stream",
     "text": [
      "[0, 1, 2, 3, 4, 5]\n"
     ]
    }
   ],
   "source": [
    "numeri=[0,1,2,3,4,5]\n",
    "print(numeri)"
   ]
  },
  {
   "cell_type": "code",
   "execution_count": 48,
   "id": "98d33bbd-b5f8-40b2-a814-c14f305c5203",
   "metadata": {},
   "outputs": [
    {
     "name": "stdout",
     "output_type": "stream",
     "text": [
      "['PulpFiction', 'Zohan', 'IGuardianiDellaGlassia']\n"
     ]
    }
   ],
   "source": [
    "filmpreferiti=['PulpFiction','Zohan','IGuardianiDellaGlassia']\n",
    "print(filmpreferiti)"
   ]
  },
  {
   "cell_type": "code",
   "execution_count": null,
   "id": "4c7ccd1d-a409-4519-9bf5-ce35562630ab",
   "metadata": {},
   "outputs": [],
   "source": []
  }
 ],
 "metadata": {
  "kernelspec": {
   "display_name": "Python 3 (ipykernel)",
   "language": "python",
   "name": "python3"
  },
  "language_info": {
   "codemirror_mode": {
    "name": "ipython",
    "version": 3
   },
   "file_extension": ".py",
   "mimetype": "text/x-python",
   "name": "python",
   "nbconvert_exporter": "python",
   "pygments_lexer": "ipython3",
   "version": "3.10.9"
  }
 },
 "nbformat": 4,
 "nbformat_minor": 5
}
